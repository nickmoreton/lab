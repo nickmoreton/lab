{
 "cells": [
  {
   "cell_type": "markdown",
   "id": "df3c0626-5c9f-46e7-91a0-c420eb269c1a",
   "metadata": {},
   "source": [
    "# requests"
   ]
  },
  {
   "cell_type": "code",
   "execution_count": 91,
   "id": "f13c3cb0-ad5d-4b6c-b55a-fb57309573f0",
   "metadata": {},
   "outputs": [],
   "source": [
    "import requests\n",
    "url = \"https://8000-nickmoreton-wordpressdo-i8rtbzbzcje.ws-eu45.gitpod.io/wp-json/wp/v2/posts\""
   ]
  },
  {
   "cell_type": "code",
   "execution_count": 92,
   "id": "25e57164-4e58-45ee-9b2a-de38a0df73be",
   "metadata": {},
   "outputs": [],
   "source": [
    "class BaseResponse:\n",
    "    def __init__(self, url):\n",
    "        self.response = requests.get(url)\n",
    "        \n",
    "    def next_page(self):\n",
    "        return self.response.headers[\"link\"]\n",
    "    \n",
    "    def total_pages(self):\n",
    "        return self.response.headers[\"X-Wp-TotalPages\"]\n",
    "    \n",
    "    def total_results(self):\n",
    "        return self.response.headers[\"X-Wp-Total\"]"
   ]
  },
  {
   "cell_type": "code",
   "execution_count": 93,
   "id": "c8cd2b85-0336-4976-8730-eb0135a396b2",
   "metadata": {},
   "outputs": [
    {
     "data": {
      "text/plain": [
       "'<https://8000-nickmoreton-wordpressdo-i8rtbzbzcje.ws-eu45.gitpod.io/wp-json/wp/v2/posts?page=2>; rel=\"next\"'"
      ]
     },
     "execution_count": 93,
     "metadata": {},
     "output_type": "execute_result"
    }
   ],
   "source": [
    "req = BaseResponse(url)\n",
    "next  = req.next_page()\n",
    "next"
   ]
  },
  {
   "cell_type": "code",
   "execution_count": 94,
   "id": "706a63d7-d859-4c7c-bf60-b143a0f49f69",
   "metadata": {},
   "outputs": [
    {
     "data": {
      "text/plain": [
       "'6'"
      ]
     },
     "execution_count": 94,
     "metadata": {},
     "output_type": "execute_result"
    }
   ],
   "source": [
    "pages = req.total_pages()\n",
    "pages"
   ]
  },
  {
   "cell_type": "code",
   "execution_count": 95,
   "id": "80001887-04e3-4800-b126-2d1a7d23e7aa",
   "metadata": {},
   "outputs": [
    {
     "data": {
      "text/plain": [
       "'52'"
      ]
     },
     "execution_count": 95,
     "metadata": {},
     "output_type": "execute_result"
    }
   ],
   "source": [
    "results = req.total_results()\n",
    "results"
   ]
  },
  {
   "cell_type": "code",
   "execution_count": 105,
   "id": "2647ee1f-3ea9-4b82-b179-d5a085e3b011",
   "metadata": {},
   "outputs": [
    {
     "data": {
      "text/plain": [
       "['https://8000-nickmoreton-wordpressdo-i8rtbzbzcje.ws-eu45.gitpod.io/wp-json/wp/v2/posts?page=2',\n",
       " 'next']"
      ]
     },
     "execution_count": 105,
     "metadata": {},
     "output_type": "execute_result"
    }
   ],
   "source": [
    "parsed = next.split(\";\")\n",
    "parsed[0] = parsed[0].replace(\"<\",\"\").replace(\">\",\"\")\n",
    "parsed[1] = parsed[1].strip().replace('\"',\"\").split(\"=\")[1]\n",
    "\n",
    "parsed"
   ]
  },
  {
   "cell_type": "code",
   "execution_count": null,
   "id": "2366bf66-f521-4804-a69f-fd2420adab1a",
   "metadata": {},
   "outputs": [],
   "source": []
  }
 ],
 "metadata": {
  "kernelspec": {
   "display_name": "Python 3 (ipykernel)",
   "language": "python",
   "name": "python3"
  },
  "language_info": {
   "codemirror_mode": {
    "name": "ipython",
    "version": 3
   },
   "file_extension": ".py",
   "mimetype": "text/x-python",
   "name": "python",
   "nbconvert_exporter": "python",
   "pygments_lexer": "ipython3",
   "version": "3.9.12"
  }
 },
 "nbformat": 4,
 "nbformat_minor": 5
}
