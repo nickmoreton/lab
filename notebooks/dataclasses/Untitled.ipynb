{
 "cells": [
  {
   "cell_type": "markdown",
   "id": "745ee6fd-9ea3-40e9-9de7-6682c0f04605",
   "metadata": {},
   "source": [
    "# pydantic"
   ]
  },
  {
   "cell_type": "code",
   "execution_count": 4,
   "id": "ffbb9864-9fce-4bf4-8381-741bc4217080",
   "metadata": {},
   "outputs": [
    {
     "name": "stdout",
     "output_type": "stream",
     "text": [
      "123\n",
      "datetime.datetime(2019, 6, 1, 12, 22)\n",
      "[1, 2, 3]\n",
      "{'id': 123, 'signup_ts': datetime.datetime(2019, 6, 1, 12, 22), 'friends': [1, 2, 3], 'name': 'John Doe'}\n"
     ]
    },
    {
     "data": {
      "text/plain": [
       "\"\\n{\\n    'id': 123,\\n    'signup_ts': datetime.datetime(2019, 6, 1, 12, 22),\\n    'friends': [1, 2, 3],\\n    'name': 'John Doe',\\n}\\n\""
      ]
     },
     "execution_count": 4,
     "metadata": {},
     "output_type": "execute_result"
    }
   ],
   "source": [
    "from datetime import datetime\n",
    "from typing import List, Optional\n",
    "from pydantic import BaseModel\n",
    "\n",
    "\n",
    "class User(BaseModel):\n",
    "    id: int\n",
    "    name = 'John Doe'\n",
    "    signup_ts: Optional[datetime] = None\n",
    "    friends: List[int] = []\n",
    "\n",
    "\n",
    "external_data = {\n",
    "    'id': '123',\n",
    "    'signup_ts': '2019-06-01 12:22',\n",
    "    'friends': [1, 2, '3'],\n",
    "}\n",
    "user = User(**external_data)\n",
    "print(user.id)\n",
    "#> 123\n",
    "print(repr(user.signup_ts))\n",
    "#> datetime.datetime(2019, 6, 1, 12, 22)\n",
    "print(user.friends)\n",
    "#> [1, 2, 3]\n",
    "print(user.dict())\n",
    "\"\"\"\n",
    "{\n",
    "    'id': 123,\n",
    "    'signup_ts': datetime.datetime(2019, 6, 1, 12, 22),\n",
    "    'friends': [1, 2, 3],\n",
    "    'name': 'John Doe',\n",
    "}\n",
    "\"\"\""
   ]
  }
 ],
 "metadata": {
  "kernelspec": {
   "display_name": "Python 3 (ipykernel)",
   "language": "python",
   "name": "python3"
  },
  "language_info": {
   "codemirror_mode": {
    "name": "ipython",
    "version": 3
   },
   "file_extension": ".py",
   "mimetype": "text/x-python",
   "name": "python",
   "nbconvert_exporter": "python",
   "pygments_lexer": "ipython3",
   "version": "3.9.12"
  }
 },
 "nbformat": 4,
 "nbformat_minor": 5
}
